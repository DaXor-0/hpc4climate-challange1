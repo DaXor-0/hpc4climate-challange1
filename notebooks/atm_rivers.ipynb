{
 "cells": [
  {
   "cell_type": "markdown",
   "id": "4065cb28-1fad-49e2-aa37-52669189b0b8",
   "metadata": {},
   "source": [
    "# Atmospheric Rivers Visualization In The Arctic Region\n",
    "\n",
    "- Atmospheric Rivers (ARs) are relatively narrow regions in the atmosphere and are responsible for most of the horizontal transport of water vapor outside of the tropics. [2]\n",
    "- While ARs come in many shapes and sizes, those that contain the largest amounts of water vapor, the strongest winds, and stall over watersheds vulnerable to flooding, can create extreme rainfall and floods.\n"
   ]
  },
  {
   "cell_type": "markdown",
   "id": "7e24b194-d4fa-4a9d-ae1f-764927a7ef75",
   "metadata": {},
   "source": [
    "# Experiment Overview\n",
    "\n",
    "- In this experiment, we will try to detect the atmospheric river which is known to have occured on 15 March 2022.\n",
    "- To detect atmospheric rivers in a region, two quantities are of interest:\n",
    "  - **Integrated Water Vapour** (IWV ; kg m-2 *or* mm): the\tamount of water\tvapor in an\tatmospheric column expressed as the depth of water if that vapor were condensed\n",
    "  - **Integrated Vapour Transport** (IVT ; kg m-1 s-1): the total amount of water vapour transport in an atmsospheric column\n",
    "-  The conditions for detecting Atmospheric Rivers could be summarised as follows: [1]\n",
    "\n",
    "| Classification   | Precipitation Rate | Relevant ICON Fields | Grid properties |\n",
    "|:-----------------|:-----------------|:--------------|:---------------- |\n",
    "| IWV    | > 7 mm             | `tqv`                | cell centered field|\n",
    "| IVT    | > 250 Kg m-1 s-1    |   `qv`, `u`, `v`, `rho`   | cell centered fields|"
   ]
  },
  {
   "cell_type": "markdown",
   "id": "3577073e-f2f7-4dc4-85da-6bc8386820b3",
   "metadata": {},
   "source": [
    "<div style=\"background-color: #dce6f9; border: 1px solid #2d4b9b; padding: 15px; border-radius: 5px;\">\n",
    "    <b style=\"color:#2d4b9b;\">Exercise:</b> \n",
    "    \n",
    "- Start writing your plugin script [here](../detectors/atm_rivers/ar_detection_plugin.py)\n",
    "- Identify the regions where IWV (`tqv`) is beyond thresholds defined above.\n",
    "- You can use the `write_output_zarr.py` in the tools to store the **High IWV** cells to disk.\n",
    "  \n",
    "<b style=\"color:#2d4b9b;\">Bonus:</b>\n",
    "- Implement second detection criteria using IVT\n",
    "- Compute IVT using specific humidity (`qv`) , wind velocity components: zonal (`u`), meridional (`v`), density (`rho`)\n",
    "- You can use the `write_output_zarr.py` in the tools to store the **High IVT** cells to disk.\n",
    "\n",
    "</div>"
   ]
  },
  {
   "cell_type": "markdown",
   "id": "3cb118ed-2a7c-40ca-9c3f-f7e99b01857d",
   "metadata": {},
   "source": [
    "## Run the experiment\n",
    "- After you write your plugin, you must run ICON with your Plugin\n",
    "- In order to do that, youe need to modify `comin_nml` to configure the plugin in the Atmo namelist: [NAMELIST_ar](../experiments/atm_rivers/NAMELIST_ar) (already done)\n",
    "- You can run the experiment and test your pugin by executing the cell below:"
   ]
  },
  {
   "cell_type": "code",
   "execution_count": null,
   "id": "8c3769af-58db-4815-93a1-92dbdb6b9665",
   "metadata": {},
   "outputs": [],
   "source": [
    "from IPython.display import display, HTML\n",
    "jid=!env -i sbatch --parsable --chdir=../experiments/atm_rivers ../experiments/atm_rivers/run.sh\n",
    "log_file=f\"../experiments/atm_rivers/logs/LOG.atm_rivers.run.{jid[0]}.out\"\n",
    "display(HTML(f\"Started job {jid[0]} with logfile: <a href='{log_file}' >{log_file}</a>\"))"
   ]
  },
  {
   "cell_type": "markdown",
   "id": "fb674927-182b-4b3d-a36f-a2b07f928433",
   "metadata": {},
   "source": [
    "You can follow the jobs scheduling with the following command"
   ]
  },
  {
   "cell_type": "code",
   "execution_count": null,
   "id": "dfba23e0-07bf-4db0-bda2-55765bf81901",
   "metadata": {},
   "outputs": [],
   "source": [
    "!squeue --me"
   ]
  },
  {
   "cell_type": "markdown",
   "id": "6b72f324-82ba-47bb-a326-e33a856d8930",
   "metadata": {},
   "source": [
    "And you can observe the output with the following command"
   ]
  },
  {
   "cell_type": "code",
   "execution_count": null,
   "id": "5a8d99ef-c99a-40ca-9e1d-ca3397a57cc0",
   "metadata": {},
   "outputs": [],
   "source": [
    "!tail -n+1 -F $log_file"
   ]
  },
  {
   "cell_type": "markdown",
   "id": "4c83c386-fcbd-4c2f-b131-f9248751fb58",
   "metadata": {},
   "source": [
    "<div style=\"background-color: #dce6f9; border: 1px solid #2d4b9b; padding: 15px; border-radius: 5px;\">\n",
    "    <b style=\"color:#2d4b9b;\">Exercise:</b> \n",
    "    \n",
    "Visualize the results using the  Zarr output.\n",
    "</div>"
   ]
  },
  {
   "cell_type": "markdown",
   "id": "57fb21e2-de6c-4d49-aac8-ff2aaa8eec14",
   "metadata": {},
   "source": [
    "# References\n",
    "\n",
    "1. https://egusphere.copernicus.org/preprints/2024/egusphere-2024-3632/\n",
    "2. https://psl.noaa.gov/arportal/about/"
   ]
  }
 ],
 "metadata": {
  "kernelspec": {
   "display_name": "0 Python 3 (based on the module python3/unstable",
   "language": "python",
   "name": "python3_unstable"
  },
  "language_info": {
   "codemirror_mode": {
    "name": "ipython",
    "version": 3
   },
   "file_extension": ".py",
   "mimetype": "text/x-python",
   "name": "python",
   "nbconvert_exporter": "python",
   "pygments_lexer": "ipython3",
   "version": "3.10.10"
  }
 },
 "nbformat": 4,
 "nbformat_minor": 5
}
