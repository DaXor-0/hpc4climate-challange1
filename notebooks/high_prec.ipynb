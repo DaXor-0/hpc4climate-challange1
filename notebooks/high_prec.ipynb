{
 "cells": [
  {
   "cell_type": "markdown",
   "id": "92d032de-9464-4777-9e50-561c3654621a",
   "metadata": {},
   "source": [
    "# Central European Flooding event in July 2021\n",
    "\n",
    "- In July 2021, extreme flooding affected parts of Belgium, Germany, and neighboring countries [1].\n",
    "  \n",
    "- Record-breaking precipitation was observed on **14 July** in the most impacted regions.\n",
    "\n",
    "  \n",
    "- River discharge in the Meuse and Rhine catchments is estimated to have reached all-time highs.\n",
    "\n",
    "  \n",
    "- A slow-moving low-pressure system brought moist air from an unusually warm Baltic Sea, leading to above-average rainfall.\n",
    "\n",
    "  \n",
    "- Several factors contributed to the severity of the event:\n",
    "  - Saturated soils\n",
    "  - Hilly terrain near the Belgium-Germany border\n",
    "  - Exceptionally high precipitation amounts\n"
   ]
  },
  {
   "cell_type": "markdown",
   "id": "0d0aa51f-caa1-4d80-b422-e045ff33d029",
   "metadata": {},
   "source": [
    "## High Precipitation Event Detection Plugin\n",
    "\n",
    "- The goal is to write a Python plugin that detects whether `total_precipitation` exceeds a defined threshold for high precipitation events.\n",
    "- To do this, we use the `tot_prec` variable from ICON.\n",
    "- The `tot_prec` variable represents hourly total accumulated precipitation.\n",
    "- The thresholds used to define high precipitation can vary across studies, depending on the region and the institution. In this case, we follow the classification provided Dunkerley.etal,2021[2]:\n",
    "  \n",
    "| Classification   | Precipitation Rate       |\n",
    "|:-----------------|:-------------------------|\n",
    "| Light rain       | < 1 mm/hr              |\n",
    "| Moderate rain    | 1 to 10 mm/hr         |\n",
    "| Heavy rain       | > 10 mm/hr              |\n",
    "\n",
    "\n"
   ]
  },
  {
   "cell_type": "markdown",
   "id": "21a87e2b-ae95-45bc-afb3-2f76e0cb296d",
   "metadata": {},
   "source": [
    "<div style=\"background-color: #dce6f9; border: 1px solid #2d4b9b; padding: 15px; border-radius: 5px;\">\n",
    "    <b style=\"color:#2d4b9b;\">Exercise:</b> \n",
    "    \n",
    "- In this detector plugin, identify the regions experiencing **heavy precipitation** based on the thresholds defined above.\n",
    "- You can use the `write_output_zarr.py` in the tools  to store the heavy precipitation cells to disk.\n",
    "- Another way to identify high precipitation events is by using the 24-hour accumulated precipitation. Compute daily accumulated precipitation from hourly precipitation variable, and detect regions where the 24-hour total exceeds **50 mm/day** [2].\n",
    "</div>"
   ]
  },
  {
   "cell_type": "markdown",
   "id": "ec07fa85-9a0b-4566-a1e8-c6c89eb68dc8",
   "metadata": {},
   "source": [
    "## Run the experiment\n",
    "- After you write your plugin, you must run ICON with your Plugin\n",
    "- In order to do that, youe need to modify `comin_nml` to configure the plugin in the Atmo namelist: [NAMELIST_high_prec](../experiments/high_prec/NAMELIST_NWP_high_prec) (already done)\n",
    "- You can run the experiment and test your pugin by executing the cell below:"
   ]
  },
  {
   "cell_type": "code",
   "execution_count": null,
   "id": "36ec908c-4bc9-4c00-8941-02cae4521eeb",
   "metadata": {},
   "outputs": [],
   "source": [
    "from IPython.display import display, HTML\n",
    "jid=!env -i sbatch --parsable --chdir=../experiments/high_prec ../experiments/high_prec/run.sh\n",
    "log_file=f\"../experiments/high_prec/logs/LOG.high_prec.run.{jid[0]}.o\"\n",
    "display(HTML(f\"Started job {jid[0]} with logfile: <a href='{log_file}' >{log_file}</a>\"))"
   ]
  },
  {
   "cell_type": "markdown",
   "id": "23c976a8-9bc8-419e-bb83-0b479f39626c",
   "metadata": {},
   "source": [
    "You can follow the jobs scheduling with the following command"
   ]
  },
  {
   "cell_type": "code",
   "execution_count": null,
   "id": "ebdd5fba-6505-428e-8728-98b3dd74cbc2",
   "metadata": {},
   "outputs": [],
   "source": [
    "!squeue --me"
   ]
  },
  {
   "cell_type": "code",
   "execution_count": null,
   "id": "0686b2e1-5b6f-4b59-8598-3d2d8ef203b2",
   "metadata": {},
   "outputs": [],
   "source": [
    "!tail -n+1 -F $log_file"
   ]
  },
  {
   "cell_type": "markdown",
   "id": "fa636d95-3595-4ae2-8d2d-3f8ad147556b",
   "metadata": {},
   "source": [
    "And observe the output with this command:"
   ]
  },
  {
   "cell_type": "markdown",
   "id": "b1e129d8-db49-45fb-8120-eb9559dee296",
   "metadata": {},
   "source": [
    "<div style=\"background-color: #dce6f9; border: 1px solid #2d4b9b; padding: 15px; border-radius: 5px;\">\n",
    "    <b style=\"color:#2d4b9b;\">Exercise:</b> \n",
    "    \n",
    "Visualize the results using the  Zarr output.\n",
    "</div>"
   ]
  },
  {
   "cell_type": "markdown",
   "id": "42d26993-4ea5-4ecf-a245-ec0bbc7993b3",
   "metadata": {},
   "source": [
    "## Refrences:\n",
    "- [1] https://climate.copernicus.eu/esotc/2021/flooding-july\n",
    "- [2] https://www.sciencedirect.com/science/article/pii/S0012825221000283\n"
   ]
  },
  {
   "cell_type": "markdown",
   "id": "8d3dbe16",
   "metadata": {},
   "source": [
    "## Further Reading and Resources\n",
    "- **Scientifically**:\n",
    "    - https://nhess.copernicus.org/articles/23/1287/2023/nhess-23-1287-2023.pdf\n",
    "    - https://climate.copernicus.eu/esotc/2021/flooding-july\n",
    "- **Technically**:\n",
    "    - Documentation on the ICON ComIn project website: https://icon-comin.gitlab-pages.dkrz.de/comin/ \n",
    "    - Python API description for ICON ComIn: https://icon-comin.gitlab-pages.dkrz.de/comin/d7/de6/md__2builds_2icon-comin_2comin_2doc_2comin__python__api.html"
   ]
  }
 ],
 "metadata": {
  "kernelspec": {
   "display_name": "0 Python 3 (based on the module python3/unstable",
   "language": "python",
   "name": "python3_unstable"
  },
  "language_info": {
   "codemirror_mode": {
    "name": "ipython",
    "version": 3
   },
   "file_extension": ".py",
   "mimetype": "text/x-python",
   "name": "python",
   "nbconvert_exporter": "python",
   "pygments_lexer": "ipython3",
   "version": "3.10.10"
  }
 },
 "nbformat": 4,
 "nbformat_minor": 5
}
