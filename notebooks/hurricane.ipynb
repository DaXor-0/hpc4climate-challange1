{
 "cells": [
  {
   "cell_type": "markdown",
   "id": "29155bed-88a2-4f70-b71c-b52d894b35f4",
   "metadata": {},
   "source": [
    "# Tropical Cyclone Detection\n",
    "\n",
    "References:\n",
    "- https://gmd.copernicus.org/articles/10/1069/2017/\n",
    "- https://gmd.copernicus.org/articles/14/5023/2021/\n",
    "- https://www.nhc.noaa.gov/data/tcr/AL172020_Paulette.pdf"
   ]
  },
  {
   "cell_type": "markdown",
   "id": "4dfd48e5-a03b-49d0-b3b4-a22f9fa5bb6f",
   "metadata": {},
   "source": [
    "# Detector Plugin\n",
    "Write the plugin code here: [detectors/hurricane/hurricane_detector.py](../detectors/hurricane/hurricane_detector.py)\n",
    "\n",
    "The simplest approach is to start by detecting the minimum pressure. To improve the detection the following steps can be used which are also described in the papers above. The described steps in the papers can be used for a more advanced implementation which would do the following:\n",
    "1. Find local minima in the sea-level pressure (field: `pres_msl`). This is a candidate point.\n",
    "   - you need to perform an `MPI_Allreduce` operation here\n",
    "2. For every found local minimum up to a certain threshold (like $10100$) do the following:\n",
    "  1. Check the closed contour criteria for pressure (see [tools/polygon.py](../tools/polygon.py))\n",
    "  2. Interpolate the geopotential (ICON field: `geopot`) onto $300$ hPa and $500$ hPa.\n",
    "  3. find the maximum geopotential around the center around 1° gcd on both surfaces\n",
    "  4. check the contour criteria on both surfaces (see [tools/polygon.py](../tools/polygon.py))\n",
    "  5. write some output with data around the center. You can use the `write_output_zarr.py` tool for that)"
   ]
  },
  {
   "cell_type": "markdown",
   "id": "fc7116b1-82bd-422b-891d-4ac807c4bb52",
   "metadata": {},
   "source": [
    "# Run the experiment\n",
    "\n",
    "- Master namelist: [icon_master.namelist](../experiments/hurricane_paulette/icon_master.namelist)\n",
    "    - set `lrestart` to `.TRUE.` to start from an restart file\n",
    "    - the restart file can be set by linking the restart file like this. Restart files are available every 8 hours:"
   ]
  },
  {
   "cell_type": "code",
   "execution_count": null,
   "id": "19f96114-23e4-42b9-b2bb-ba1c5fc3432a",
   "metadata": {},
   "outputs": [],
   "source": [
    "!ln -sfn /work/bk1414/summerschool/hurricane_paulette_restart_files/restart_atm_20200913T160000Z.mfr ../experiments/hurricane_paulette/multifile_restart_atm.mfr"
   ]
  },
  {
   "cell_type": "markdown",
   "id": "f6e4ef92-988b-4a9c-9c9d-33876a28f14e",
   "metadata": {},
   "source": [
    "- Atmo namelist: [NAMELIST_Paulette_tc](../experiments/hurricane_paulette/NAMELIST_Paulette_tc)\n",
    "  - in the `comin_nml` you can configure the plugin (already done)\n",
    "  - in `run_nml` set `nsteps` to the number of steps you want to execute (or to 0 to run until the experiment end)\n",
    "\n",
    "To run the experiment and test the plugin execute the following cell."
   ]
  },
  {
   "cell_type": "code",
   "execution_count": null,
   "id": "00b5b49b-5625-4735-8128-ba5b4fd70c88",
   "metadata": {},
   "outputs": [],
   "source": [
    "from IPython.display import display, HTML\n",
    "jid=!env -i sbatch --parsable --chdir=../experiments/hurricane_paulette ../experiments/hurricane_paulette/run.sh\n",
    "log_file=f\"../experiments/hurricane_paulette/logs/LOG.hurricane_paulette.run.{jid[0]}.o\"\n",
    "display(HTML(f\"Started job {jid[0]} with logfile: <a href='{log_file}' >{log_file}</a>\"))"
   ]
  },
  {
   "cell_type": "markdown",
   "id": "951be10e-ac4e-4d1e-8985-c49053b2aa97",
   "metadata": {},
   "source": [
    "You can follow the jobs scheduling with the following command"
   ]
  },
  {
   "cell_type": "code",
   "execution_count": null,
   "id": "396ff723-25cc-45e8-a0df-13303e556840",
   "metadata": {},
   "outputs": [],
   "source": [
    "!squeue --me"
   ]
  },
  {
   "cell_type": "markdown",
   "id": "aab341ed-f060-41ed-bf5c-ed7ce272847a",
   "metadata": {},
   "source": [
    "And observe the output with this command:"
   ]
  },
  {
   "cell_type": "code",
   "execution_count": null,
   "id": "e1611e6b-1ca9-4660-baae-20a2d3f6418e",
   "metadata": {
    "scrolled": true
   },
   "outputs": [],
   "source": [
    "!tail -n+1 -F $log_file"
   ]
  },
  {
   "cell_type": "markdown",
   "id": "81bded98-e613-4110-883d-33926ec5518f",
   "metadata": {},
   "source": [
    "If you write the output with the `write_output_zarr` tool into a `output.zarr` you can visualize the dataset like this:"
   ]
  },
  {
   "cell_type": "code",
   "execution_count": null,
   "id": "a0498486-741d-46cc-9ef8-90fb863b77af",
   "metadata": {},
   "outputs": [],
   "source": [
    "import uxarray as ux\n",
    "import cartopy.crs as ccrs\n",
    "import geoviews.feature as gf\n",
    "import numpy as np\n",
    "background = gf.coastline(projection=ccrs.PlateCarree()) * gf.ocean(projection=ccrs.PlateCarree()) * gf.land(projection=ccrs.PlateCarree())\n",
    "ds = ux.open_dataset(\"../experiments/hurricane_paulette/domain1_DOM01.nc\", \"../experiments/hurricane_paulette/output.zarr\")\n",
    "t = np.datetime64(\"2020-09-13T16:10:00\")\n",
    "ds"
   ]
  },
  {
   "cell_type": "code",
   "execution_count": null,
   "id": "0eb0f5fe-cfb4-4045-a2bd-049ec660e2d7",
   "metadata": {},
   "outputs": [],
   "source": [
    " background * ds[\"pres_msl\"].sel(time=t).plot(projection=ccrs.PlateCarree())"
   ]
  },
  {
   "cell_type": "code",
   "execution_count": null,
   "id": "e7a78946-58ec-42b3-9077-869bdc7a8f31",
   "metadata": {},
   "outputs": [],
   "source": [
    " background * ds[\"sp_10m\"].sel(time=np.datetime64(\"2020-09-13T16:10:00\")).plot(projection=ccrs.PlateCarree())"
   ]
  }
 ],
 "metadata": {
  "kernelspec": {
   "display_name": "python3.12-jupyter",
   "language": "python",
   "name": "python3.12-jupyter"
  },
  "language_info": {
   "codemirror_mode": {
    "name": "ipython",
    "version": 3
   },
   "file_extension": ".py",
   "mimetype": "text/x-python",
   "name": "python",
   "nbconvert_exporter": "python",
   "pygments_lexer": "ipython3",
   "version": "3.12.9"
  }
 },
 "nbformat": 4,
 "nbformat_minor": 5
}
